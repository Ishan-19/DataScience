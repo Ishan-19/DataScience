{
 "cells": [
  {
   "cell_type": "markdown",
   "id": "3ac09d6d-1cb7-48ba-8c23-6d67fd3ac697",
   "metadata": {},
   "source": [
    "# Data Science Tools and Ecosystem"
   ]
  },
  {
   "cell_type": "markdown",
   "id": "03245083-77ec-4d40-9b07-c71241e1b126",
   "metadata": {},
   "source": [
    "**Introduction**:\n",
    "\n",
    "In this notebook we'll discussed different tools and ecosystem that are helpful for data science. "
   ]
  },
  {
   "cell_type": "markdown",
   "id": "b522aeac-1c59-4b02-aee1-72f6dba8eed7",
   "metadata": {},
   "source": [
    "**Objective:**\n",
    "The objective of this notebook is to test the basic understand of data science tools."
   ]
  },
  {
   "cell_type": "markdown",
   "id": "97a1d979-79e8-4724-a664-0c4a5abb79f4",
   "metadata": {},
   "source": [
    "Some of the popular languages that Data Scientist use are:\n",
    "- Python\n",
    "- R\n",
    "- SQL\n",
    "- Java\n",
    "\n",
    "Each language provide a set of libraries that can be used to achieved different data analytic task. Each languages have there own advantages, but the most popular langauges that are used for data science task are Python and R. The popularity of python is because of its huge collection of libraries and its open source nature, where as R is more popular among the academics. "
   ]
  },
  {
   "cell_type": "markdown",
   "id": "0891caec-4948-40dc-8d78-a9a9e7f4c802",
   "metadata": {},
   "source": [
    "Some of the commmonly used libraries are\n",
    "1. Pandas: For data manipulation\n",
    "2. Numpy : For numeric computation on arrays and matrixes\n",
    "3. Scikit-learn : For machine learning algorithms \n",
    "4. Keras : For Deep Learning\n",
    "5. Tensorflow : For Deep learning\n",
    "6. Matplotlib : for plotting graphs "
   ]
  },
  {
   "cell_type": "markdown",
   "id": "8f4108e3-5c97-4306-a166-6a32c7c9d4dd",
   "metadata": {},
   "source": [
    "**Tools**\n",
    "\n",
    "|Data Science Tools|\n",
    "--------------------\n",
    "|Anaconda and Jupyter Notebook|\n",
    "|RStudio|\n",
    "|Github|"
   ]
  },
  {
   "cell_type": "markdown",
   "id": "76cb4439-ed11-4f1b-9845-0c72fd219bbb",
   "metadata": {},
   "source": [
    "### Below are a few examples of evaluation arithmetic expressions in Python"
   ]
  },
  {
   "cell_type": "code",
   "execution_count": 1,
   "id": "fa3bf552-e97a-4be8-bc00-d8003b79f7e0",
   "metadata": {},
   "outputs": [
    {
     "data": {
      "text/plain": [
       "17"
      ]
     },
     "execution_count": 1,
     "metadata": {},
     "output_type": "execute_result"
    }
   ],
   "source": [
    "#This is the simplest arithmetic expression\n",
    "(3*4)+5"
   ]
  },
  {
   "cell_type": "code",
   "execution_count": 5,
   "id": "80644978-e669-4846-a78c-c2ad0fb9c0a7",
   "metadata": {},
   "outputs": [
    {
     "data": {
      "text/plain": [
       "3.3333333333333335"
      ]
     },
     "execution_count": 5,
     "metadata": {},
     "output_type": "execute_result"
    }
   ],
   "source": [
    "#This will convert 200 minutes in hours\n",
    "200/60"
   ]
  },
  {
   "cell_type": "markdown",
   "id": "98e2cd24-28a0-4433-a9b6-0752997edc30",
   "metadata": {},
   "source": [
    "## Author\n",
    "Ishan"
   ]
  },
  {
   "cell_type": "code",
   "execution_count": null,
   "id": "aef9655d-4cc7-4b75-ad98-cde11e38dfa2",
   "metadata": {},
   "outputs": [],
   "source": []
  }
 ],
 "metadata": {
  "kernelspec": {
   "display_name": "Python 3",
   "language": "python",
   "name": "python3"
  },
  "language_info": {
   "codemirror_mode": {
    "name": "ipython",
    "version": 3
   },
   "file_extension": ".py",
   "mimetype": "text/x-python",
   "name": "python",
   "nbconvert_exporter": "python",
   "pygments_lexer": "ipython3",
   "version": "3.8.8"
  }
 },
 "nbformat": 4,
 "nbformat_minor": 5
}
